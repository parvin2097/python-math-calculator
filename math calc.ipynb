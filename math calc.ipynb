{
 "cells": [
  {
   "cell_type": "code",
   "execution_count": null,
   "id": "c1cc1794",
   "metadata": {},
   "outputs": [],
   "source": [
    "#CALCULATOR\n",
    "import sys\n",
    "add=lambda a,b:a+b\n",
    "subtract=lambda a,b:a-b\n",
    "multiply=lambda a,b:a*b\n",
    "divide=lambda a,b:a/b\n",
    "modulo=lambda a,b:a%b\n",
    "i=1\n",
    "while True:\n",
    "    if input(\"\\n\\n[{}] Exit(press e) or calculate(press c):\".format(i))==\"c\":\n",
    "        op=input(\"\\nAddition(press a), Subtraction(press s), Multiplication(press m), Division(press d), Modulus(mo):\").strip().lower()\n",
    "        if op=='a':\n",
    "            print(\"\\nAddition:\\n\")\n",
    "            res=add(float(input(\"N1:\")),float(input(\"N2:\")))\n",
    "            print(\"sum:{}\".format(res))\n",
    "        elif op=='s':\n",
    "            print(\"\\nSubtraction:\\n\")\n",
    "            res=subtract(float(input(\"N1:\")),float(input(\"N2:\")))\n",
    "            print(\"difference:{}\".format(res))\n",
    "        elif op=='m':\n",
    "            print(\"\\nMultiplication:\\n\")\n",
    "            res=multiply(float(input(\"N1:\")),float(input(\"N2:\")))\n",
    "            print(\"product:{}\".format(res))\n",
    "        elif op=='d':\n",
    "            print(\"\\nDivision:\\n\")\n",
    "            res=divide(float(input(\"N1:\")),float(input(\"N2:\")))\n",
    "            print(\"quotient:{}\".format(res))\n",
    "        else:\n",
    "            print(\"\\nModulus:\\n\")\n",
    "            res=modulo(float(input(\"N1:\")),float(input(\"N2:\")))\n",
    "            print(\"modulus:{}\".format(res))\n",
    "        i+=1\n",
    "    else:\n",
    "        print(\"hope you have enjoyed!\")\n",
    "        sys.exit()"
   ]
  }
 ],
 "metadata": {
  "kernelspec": {
   "display_name": "Python 3",
   "language": "python",
   "name": "python3"
  },
  "language_info": {
   "codemirror_mode": {
    "name": "ipython",
    "version": 3
   },
   "file_extension": ".py",
   "mimetype": "text/x-python",
   "name": "python",
   "nbconvert_exporter": "python",
   "pygments_lexer": "ipython3",
   "version": "3.9.4"
  }
 },
 "nbformat": 4,
 "nbformat_minor": 5
}
